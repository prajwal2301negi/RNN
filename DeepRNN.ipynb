{
 "cells": [
  {
   "cell_type": "markdown",
   "id": "1616ded7-7762-4df3-a737-ba40f0b7b5cb",
   "metadata": {},
   "source": [
    "# Deep RNN"
   ]
  },
  {
   "cell_type": "code",
   "execution_count": 1,
   "id": "9e607e44-bd7e-4ebb-a865-044bf42cb471",
   "metadata": {},
   "outputs": [],
   "source": [
    "import tensorflow as tf\n",
    "from tensorflow.keras.datasets import imdb\n",
    "from tensorflow.keras.preprocessing.sequence import pad_sequences\n",
    "from tensorflow.keras.models import Sequential\n",
    "from tensorflow.keras.layers import Embedding, SimpleRNN, Dense"
   ]
  },
  {
   "cell_type": "code",
   "execution_count": 5,
   "id": "2f6f0a97-69ae-441a-9531-c7ebe9bca6c7",
   "metadata": {},
   "outputs": [],
   "source": [
    "# Imdb Dataset\n",
    "(X_train, y_train), (X_test, y_test) = imdb.load_data(num_words = 10000)\n",
    "\n",
    "# Pad Sequences for same length\n",
    "X_train = pad_sequences(X_train, maxlen = 100)\n",
    "X_test = pad_sequences(X_test, maxlen = 100)"
   ]
  },
  {
   "cell_type": "code",
   "execution_count": 7,
   "id": "ec39b1b8-a535-415b-8981-0810ea1104b8",
   "metadata": {},
   "outputs": [],
   "source": [
    "model = Sequential([\n",
    "    Embedding(10000, 32, input_length=100),\n",
    "    SimpleRNN(5, return_sequences = True),\n",
    "    SimpleRNN(5),\n",
    "    Dense(1, activation = 'sigmoid')\n",
    "])\n"
   ]
  },
  {
   "cell_type": "code",
   "execution_count": null,
   "id": "79db12f0-5381-48c1-8c8f-5acf449c4674",
   "metadata": {},
   "outputs": [],
   "source": [
    "model.summary()"
   ]
  },
  {
   "cell_type": "markdown",
   "id": "fe02b167-4e24-410d-9a53-5a19485229db",
   "metadata": {},
   "source": [
    "**Deep LSTM**"
   ]
  },
  {
   "cell_type": "code",
   "execution_count": null,
   "id": "470b8143-cd17-49f9-94bf-213e15412458",
   "metadata": {},
   "outputs": [],
   "source": [
    "model = Sequential([\n",
    "    Embedding(10000, 32, input_length=100),\n",
    "    LSTM(5, return_sequences = True),\n",
    "    LSTM(5),\n",
    "    Dense(1, activation = 'sigmoid')\n",
    "])"
   ]
  },
  {
   "cell_type": "code",
   "execution_count": null,
   "id": "de61856f-300c-44f9-8373-85276b9b1dd8",
   "metadata": {},
   "outputs": [],
   "source": [
    "model.summary()"
   ]
  },
  {
   "cell_type": "markdown",
   "id": "5c4de01c-df18-43bf-bece-4de1196299d3",
   "metadata": {},
   "source": [
    "**Deep GRU**"
   ]
  },
  {
   "cell_type": "code",
   "execution_count": null,
   "id": "98c7b295-c948-426c-8e45-0b7da5c9ed68",
   "metadata": {},
   "outputs": [],
   "source": [
    "model = Sequential([\n",
    "    Embedding(10000, 32, input_length=100),\n",
    "    GRU(5, return_sequences = True),\n",
    "    GRU(5),\n",
    "    Dense(1, activation = 'sigmoid')\n",
    "])"
   ]
  },
  {
   "cell_type": "code",
   "execution_count": null,
   "id": "6b0d85c0-e201-48c1-b260-346437a89081",
   "metadata": {},
   "outputs": [],
   "source": [
    "model.summary()"
   ]
  }
 ],
 "metadata": {
  "kernelspec": {
   "display_name": "Python 3 (ipykernel)",
   "language": "python",
   "name": "python3"
  },
  "language_info": {
   "codemirror_mode": {
    "name": "ipython",
    "version": 3
   },
   "file_extension": ".py",
   "mimetype": "text/x-python",
   "name": "python",
   "nbconvert_exporter": "python",
   "pygments_lexer": "ipython3",
   "version": "3.12.4"
  }
 },
 "nbformat": 4,
 "nbformat_minor": 5
}
