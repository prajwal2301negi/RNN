{
 "cells": [
  {
   "cell_type": "code",
   "execution_count": null,
   "id": "3dd9bfe3-237e-4104-8a5b-ca1b5439ebbb",
   "metadata": {},
   "outputs": [],
   "source": [
    "import tensorflow as tf\n",
    "from tensorflow.keras.datasets import imdb\n",
    "from tensorflow.keras.preprocessing.sequence import pad_sequences\n",
    "from tensorflow.keras.models import Sequential\n",
    "from tensorflow.keras.layers import Embedding, SimpleRNN, Dense, Bidirectional, GRU, LSTM"
   ]
  },
  {
   "cell_type": "code",
   "execution_count": null,
   "id": "7a1b920e-e853-458b-949d-3c0e0e2e37f0",
   "metadata": {},
   "outputs": [],
   "source": [
    "# Imdb Dataset\n",
    "(X_train, y_train), (X_test, y_test) = imdb.load_data(num_words = 10000)\n",
    "\n",
    "# Pad Sequences for same length\n",
    "X_train = pad_sequences(X_train, maxlen = 100, padding = 'post', truncating = 'post')\n",
    "X_test = pad_sequences(X_test, maxlen = 100, padding = 'post', truncating = 'post')\n",
    "\n",
    "embedding_dim = 32\n",
    "\n",
    "model = Sequential([\n",
    "    Embedding(input_dim = 10000, output_dim = embedding_dim, input_length=100),\n",
    "    Bidirectional(SimpleRNN(5)),\n",
    "    Dense(1, activation = 'sigmoid')\n",
    "])\n",
    "\n",
    "\n",
    "# LSTM\n",
    "# model = Sequential([\n",
    "#     Embedding(10000, 32, input_length=100),\n",
    "#     Bidirectional(LSTM(5)),\n",
    "#     Dense(1, activation = 'sigmoid')\n",
    "# ])\n",
    "\n",
    "\n",
    "\n",
    "# GRU\n",
    "# model = Sequential([\n",
    "#     Embedding(10000, 32, input_length=100),\n",
    "#     Bidirectional(GRU(5)),\n",
    "#     Dense(1, activation = 'sigmoid')\n",
    "# ])\n",
    "\n",
    "\n",
    "model.compile(optimizer = 'adam', loss = 'binary_crossentropy', metrics = ['accuracy'])\n",
    "model.summary()"
   ]
  }
 ],
 "metadata": {
  "kernelspec": {
   "display_name": "Python 3 (ipykernel)",
   "language": "python",
   "name": "python3"
  },
  "language_info": {
   "codemirror_mode": {
    "name": "ipython",
    "version": 3
   },
   "file_extension": ".py",
   "mimetype": "text/x-python",
   "name": "python",
   "nbconvert_exporter": "python",
   "pygments_lexer": "ipython3",
   "version": "3.12.4"
  }
 },
 "nbformat": 4,
 "nbformat_minor": 5
}
