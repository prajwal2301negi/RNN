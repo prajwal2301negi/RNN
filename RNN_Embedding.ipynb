{
 "cells": [
  {
   "cell_type": "code",
   "execution_count": 1,
   "id": "95a2ec5c-dad0-4221-9d98-56b017624a79",
   "metadata": {},
   "outputs": [],
   "source": [
    "# Using RNN (Embedding) to perform sentiment analysis."
   ]
  },
  {
   "cell_type": "code",
   "execution_count": 2,
   "id": "e9801216-7b02-4967-938a-eef8b0b9fb12",
   "metadata": {},
   "outputs": [],
   "source": [
    "# Will give better result than integer encoding."
   ]
  },
  {
   "cell_type": "code",
   "execution_count": 3,
   "id": "f810539e-c77e-4d5c-84f2-43fb4f025793",
   "metadata": {},
   "outputs": [],
   "source": [
    "# We have to make sure that input we are giving must be integer-encoded, rest embedding layer will handle automatically."
   ]
  },
  {
   "cell_type": "code",
   "execution_count": 4,
   "id": "1ff094b9-ff76-4c79-b87d-c851b7851ce2",
   "metadata": {},
   "outputs": [],
   "source": [
    "from keras.datasets import imdb\n",
    "from keras import Sequential\n",
    "from keras.layers import Dense, SimpleRNN, Embedding, Flatten"
   ]
  },
  {
   "cell_type": "code",
   "execution_count": 5,
   "id": "2323638d-d848-434d-bffa-516fae07a9f1",
   "metadata": {},
   "outputs": [],
   "source": [
    "(X_train, y_train), (X_test, y_test) = imdb.load_data()"
   ]
  },
  {
   "cell_type": "code",
   "execution_count": 6,
   "id": "deb7867d-dac3-440e-809a-70965acb1a20",
   "metadata": {},
   "outputs": [
    {
     "data": {
      "text/plain": [
       "(25000,)"
      ]
     },
     "execution_count": 6,
     "metadata": {},
     "output_type": "execute_result"
    }
   ],
   "source": [
    "X_train.shape"
   ]
  },
  {
   "cell_type": "code",
   "execution_count": 7,
   "id": "c597a251-bb00-4719-8034-6a4b9874735b",
   "metadata": {},
   "outputs": [],
   "source": [
    "from keras.utils import pad_sequences"
   ]
  },
  {
   "cell_type": "code",
   "execution_count": 8,
   "id": "9e509700-9696-4fed-80b5-b2e1bcb58b1e",
   "metadata": {},
   "outputs": [],
   "source": [
    "X_train = pad_sequences(X_train, padding = 'post', maxlen = 150)\n",
    "X_test = pad_sequences(X_test, padding = 'post', maxlen = 150)"
   ]
  },
  {
   "cell_type": "code",
   "execution_count": 9,
   "id": "d9693247-0510-456b-9921-288363ad2362",
   "metadata": {},
   "outputs": [
    {
     "data": {
      "text/plain": [
       "(25000, 150)"
      ]
     },
     "execution_count": 9,
     "metadata": {},
     "output_type": "execute_result"
    }
   ],
   "source": [
    "X_train.shape"
   ]
  },
  {
   "cell_type": "code",
   "execution_count": 10,
   "id": "47799b95-2da2-4d4a-8536-78cfc2ff9333",
   "metadata": {},
   "outputs": [
    {
     "data": {
      "text/plain": [
       "array([   12,    16,    43,   530,    38,    76,    15,    13,  1247,\n",
       "           4,    22,    17,   515,    17,    12,    16,   626,    18,\n",
       "       19193,     5,    62,   386,    12,     8,   316,     8,   106,\n",
       "           5,     4,  2223,  5244,    16,   480,    66,  3785,    33,\n",
       "           4,   130,    12,    16,    38,   619,     5,    25,   124,\n",
       "          51,    36,   135,    48,    25,  1415,    33,     6,    22,\n",
       "          12,   215,    28,    77,    52,     5,    14,   407,    16,\n",
       "          82, 10311,     8,     4,   107,   117,  5952,    15,   256,\n",
       "           4, 31050,     7,  3766,     5,   723,    36,    71,    43,\n",
       "         530,   476,    26,   400,   317,    46,     7,     4, 12118,\n",
       "        1029,    13,   104,    88,     4,   381,    15,   297,    98,\n",
       "          32,  2071,    56,    26,   141,     6,   194,  7486,    18,\n",
       "           4,   226,    22,    21,   134,   476,    26,   480,     5,\n",
       "         144,    30,  5535,    18,    51,    36,    28,   224,    92,\n",
       "          25,   104,     4,   226,    65,    16,    38,  1334,    88,\n",
       "          12,    16,   283,     5,    16,  4472,   113,   103,    32,\n",
       "          15,    16,  5345,    19,   178,    32])"
      ]
     },
     "execution_count": 10,
     "metadata": {},
     "output_type": "execute_result"
    }
   ],
   "source": [
    "X_train[0]"
   ]
  },
  {
   "cell_type": "code",
   "execution_count": 11,
   "id": "9243a24b-8e7c-46f0-85a6-dc679f4a0cb8",
   "metadata": {},
   "outputs": [
    {
     "name": "stderr",
     "output_type": "stream",
     "text": [
      "C:\\Users\\prajwal\\AppData\\Local\\Programs\\Python\\Python312\\Lib\\site-packages\\keras\\src\\layers\\core\\embedding.py:90: UserWarning: Argument `input_length` is deprecated. Just remove it.\n",
      "  warnings.warn(\n",
      "C:\\Users\\prajwal\\AppData\\Local\\Programs\\Python\\Python312\\Lib\\site-packages\\keras\\src\\layers\\rnn\\rnn.py:204: UserWarning: Do not pass an `input_shape`/`input_dim` argument to a layer. When using Sequential models, prefer using an `Input(shape)` object as the first layer in the model instead.\n",
      "  super().__init__(**kwargs)\n"
     ]
    }
   ],
   "source": [
    "model = Sequential()\n",
    "\n",
    "model.add(Embedding(input_dim=25000, output_dim=150, input_length=2))\n",
    "model.add(SimpleRNN(32, return_sequences=False, input_shape=(2, 150))) \n",
    "model.add(Dense(1, activation='sigmoid'))"
   ]
  },
  {
   "cell_type": "code",
   "execution_count": null,
   "id": "614582f4-8a1b-4268-ad82-1061d64ab639",
   "metadata": {},
   "outputs": [],
   "source": [
    "model.summary()"
   ]
  },
  {
   "cell_type": "code",
   "execution_count": null,
   "id": "0367cc96-852b-4102-b0ee-82616392822d",
   "metadata": {},
   "outputs": [],
   "source": [
    "model.compile(optimizer='adam', loss='binary_crossentropy', metrics=['accuracy'])\n",
    "history = model.fit(X_train, y_train, epochs=5, batch_size=32, validation_data = (X_test, y_test))\n"
   ]
  }
 ],
 "metadata": {
  "kernelspec": {
   "display_name": "Python 3 (ipykernel)",
   "language": "python",
   "name": "python3"
  },
  "language_info": {
   "codemirror_mode": {
    "name": "ipython",
    "version": 3
   },
   "file_extension": ".py",
   "mimetype": "text/x-python",
   "name": "python",
   "nbconvert_exporter": "python",
   "pygments_lexer": "ipython3",
   "version": "3.12.4"
  }
 },
 "nbformat": 4,
 "nbformat_minor": 5
}
